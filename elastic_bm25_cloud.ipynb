{
 "cells": [
  {
   "cell_type": "markdown",
   "metadata": {},
   "source": [
    "### Instalar:\n",
    "pip install elasticsearch"
   ]
  },
  {
   "cell_type": "code",
   "execution_count": 2,
   "metadata": {},
   "outputs": [],
   "source": [
    "from elasticsearch import Elasticsearch\n",
    "from elasticsearch.helpers import bulk, BulkIndexError"
   ]
  },
  {
   "cell_type": "markdown",
   "metadata": {},
   "source": [
    "### Configuración elastic:\n",
    "1. Después del login ir a https://cloud.elastic.co/home y entrar en \"My deployment\".\n",
    "2. Haga click en las trtes rallitas para abrir \"Manager this deployment\" y luego vaya a \"API Keys\" para generar un nuevo API Key.\n",
    "3. Para identifiacar el \"Cloud ID\" , vaya a \"My deployment\" y haga click en \"Manage\".\n",
    "4. Para \"Elasticsearch endpoint\" ve a \"My deployment\", luego a \"Elasticsearch\" y \"Copy endpoint\". Tendras algo como esto en el portapapeles.\n",
    "    https://52ce5dc4d987461e90effb1ad06a6068.us-central1.gcp.cloud.es.io\n"
   ]
  },
  {
   "cell_type": "code",
   "execution_count": 1,
   "metadata": {},
   "outputs": [
    {
     "data": {
      "text/plain": [
       "{'name': 'instance-0000000000',\n",
       " 'cluster_name': '47ca47e25f024c7784b2d65dfae50378',\n",
       " 'cluster_uuid': 'lzKsF-dPTmyqLALkDYr5dQ',\n",
       " 'version': {'number': '8.15.5',\n",
       "  'build_flavor': 'default',\n",
       "  'build_type': 'docker',\n",
       "  'build_hash': 'b10896bcfe167cce44a84ba2771d101fb596d40d',\n",
       "  'build_date': '2024-11-21T22:06:13.985834967Z',\n",
       "  'build_snapshot': False,\n",
       "  'lucene_version': '9.11.1',\n",
       "  'minimum_wire_compatibility_version': '7.17.0',\n",
       "  'minimum_index_compatibility_version': '7.0.0'},\n",
       " 'tagline': 'You Know, for Search'}"
      ]
     },
     "execution_count": 1,
     "metadata": {},
     "output_type": "execute_result"
    }
   ],
   "source": [
    "from elasticsearch import Elasticsearch\n",
    "\n",
    "\n",
    "es = Elasticsearch(\n",
    "    \"https://devfest-lima-2024.es.us-central1.gcp.cloud.es.io\",  # Elasticsearch endpoint\n",
    "    api_key=\"UkkyWGRwTUJud2NwNG9iTlMxUHo6TjhtLUR3R2VUcU90M0l1R1ZlalR3dw==\",\n",
    ")\n",
    "# Successful response!\n",
    "es.info().body"
   ]
  },
  {
   "cell_type": "code",
   "execution_count": 2,
   "metadata": {},
   "outputs": [
    {
     "name": "stdout",
     "output_type": "stream",
     "text": [
      "160\n"
     ]
    }
   ],
   "source": [
    "import pickle\n",
    "\n",
    "# Replace 'path_to_your_file.pkl' with the actual path to your PKL file\n",
    "file_path = 'data/chapter_1_256.pkl'\n",
    "\n",
    "# Open the file in binary mode and load the data\n",
    "with open(file_path, 'rb') as file:\n",
    "    data = pickle.load(file)\n",
    "\n",
    "# Now 'data' contains the deserialized Python object\n",
    "print(len(data))"
   ]
  },
  {
   "cell_type": "code",
   "execution_count": 3,
   "metadata": {},
   "outputs": [],
   "source": [
    "all_data =[]\n",
    "\n",
    "for idx, texto in enumerate(data):\n",
    "    tem =   {'id': idx+1,  \n",
    "            'title': '100 años de soledad',  \n",
    "            'description': texto\n",
    "            }\n",
    "    all_data.append(tem)"
   ]
  },
  {
   "cell_type": "code",
   "execution_count": 4,
   "metadata": {},
   "outputs": [
    {
     "data": {
      "text/plain": [
       "160"
      ]
     },
     "execution_count": 4,
     "metadata": {},
     "output_type": "execute_result"
    }
   ],
   "source": [
    "len(all_data)"
   ]
  },
  {
   "cell_type": "code",
   "execution_count": 7,
   "metadata": {},
   "outputs": [
    {
     "data": {
      "text/plain": [
       "{'id': 12,\n",
       " 'title': '100 años de soledad',\n",
       " 'description': 'Cuando José Arcadio Buendía y los cuatro hombres de su expedición lograron desarticular la armadura, encontraron dentro un esqueleto calcificado que llevaba colgado en el cuello un relicario de cobre con un rizo de mujer. En marzo volvieron los gitanos.'}"
      ]
     },
     "execution_count": 7,
     "metadata": {},
     "output_type": "execute_result"
    }
   ],
   "source": [
    "all_data[11]"
   ]
  },
  {
   "cell_type": "code",
   "execution_count": 8,
   "metadata": {},
   "outputs": [],
   "source": [
    "index_settings = {\n",
    "        \"settings\": {\n",
    "            \"analysis\": {\"analyzer\": {\"default\": {\"type\": \"spanish\"}}},\n",
    "            \"similarity\": {\"default\": {\"type\": \"BM25\"}},\n",
    "            \"index.queries.cache.enabled\": False  # Disable query cache\n",
    "        },\n",
    "        \"mappings\": {\n",
    "            \"properties\": {\n",
    "                \"id\": {\"type\": \"keyword\", \"index\": False},\n",
    "                \"title\": {\"type\": \"text\", \"analyzer\": \"spanish\"},\n",
    "                \"description\": {\"type\": \"text\", \"analyzer\": \"spanish\"},\n",
    "        }},\n",
    "    }"
   ]
  },
  {
   "cell_type": "code",
   "execution_count": 9,
   "metadata": {},
   "outputs": [
    {
     "name": "stdout",
     "output_type": "stream",
     "text": [
      "Index exists\n",
      "Data successfully indexed in the destination index.\n"
     ]
    }
   ],
   "source": [
    "from elasticsearch.helpers import bulk, BulkIndexError\n",
    "# Create an index\n",
    "py_indexname = '100_years_256'\n",
    "es.indices.create(index=py_indexname, body=index_settings)\n",
    "\n",
    "# Check if an index exists\n",
    "if es.indices.exists(index=py_indexname): # he includo index_settings = {...}\n",
    "  print(\"Index exists\")\n",
    "else:\n",
    "  print(\"Index doesn't exist.\")\n",
    "\n",
    "actions = [\n",
    "    {\"_index\": py_indexname,\n",
    "     \"_id\": doc[\"id\"],\n",
    "     \"_source\": {\n",
    "          \"library\": doc[\"title\"],\n",
    "          \"description\": doc[\"description\"]}\n",
    "     }\n",
    "     for doc in all_data \n",
    "]\n",
    "\n",
    "try:\n",
    "    bulk(es, actions)\n",
    "    print(\"Data successfully indexed in the destination index.\")\n",
    "except BulkIndexError as e: \n",
    "    print(\"Failed to index documents:\") \n",
    "    for err in e.errors:\n",
    "        print(err)"
   ]
  },
  {
   "cell_type": "code",
   "execution_count": null,
   "metadata": {},
   "outputs": [
    {
     "name": "stdout",
     "output_type": "stream",
     "text": [
      "- 4.000544 -> Úrsula cedió, como ocurría siempre, ante la inquebrantable obstinación de su marido. Entonces José Arcadio Buendía echó treinta doblones en una cazuela, y los fundió con raspadura de cobre, oropimente, azufre y plomo.\n",
      "- 3.767782 -> Por último, cansado de esperar, se lamentó ante Melquíades del fracaso de su iniciativa, y el gitano dio entonces una prueba convincente de honradez: le devolvió los doblones a cambio de la lupa, y le dejó además unos mapas portugueses y varios instrumentos de navegación.\n"
     ]
    }
   ],
   "source": [
    "q = \"doblones\"\n",
    "k = 3\n",
    "search_body = {\n",
    "    \"query\": {\n",
    "        \"multi_match\": {\n",
    "            \"query\": q,\n",
    "            \"fields\": [\"description\"],\n",
    "        }\n",
    "    },\n",
    "    \"size\": k,\n",
    "}\n",
    "#s.count(index=py_indexname, query=query)\n",
    "response = es.search(index=py_indexname, body=search_body) # Extract the results\n",
    "results = response[\"hits\"][\"hits\"]\n",
    "# Print the documents\n",
    "for result in results: \n",
    "    print(f\"- {result['_score']:3f} -> {result['_source']['description']}\")"
   ]
  }
 ],
 "metadata": {
  "kernelspec": {
   "display_name": "langchain_exp",
   "language": "python",
   "name": "python3"
  },
  "language_info": {
   "codemirror_mode": {
    "name": "ipython",
    "version": 3
   },
   "file_extension": ".py",
   "mimetype": "text/x-python",
   "name": "python",
   "nbconvert_exporter": "python",
   "pygments_lexer": "ipython3",
   "version": "3.9.20"
  }
 },
 "nbformat": 4,
 "nbformat_minor": 2
}
