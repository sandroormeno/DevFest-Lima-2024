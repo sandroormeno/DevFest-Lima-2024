{
 "cells": [
  {
   "cell_type": "code",
   "execution_count": 1,
   "metadata": {},
   "outputs": [
    {
     "data": {
      "text/plain": [
       "True"
      ]
     },
     "execution_count": 1,
     "metadata": {},
     "output_type": "execute_result"
    }
   ],
   "source": [
    "import sqlite3\n",
    "from textwrap import dedent\n",
    "from typing import List\n",
    "import sqlite_vec\n",
    "from fastembed import TextEmbedding\n",
    "from groq import Groq\n",
    "from groq.types.chat import ChatCompletionMessage\n",
    "from langchain_text_splitters import RecursiveCharacterTextSplitter\n",
    "from sqlite_vec import serialize_float32\n",
    "from tqdm import tqdm\n",
    "import os\n",
    "from dotenv import load_dotenv\n",
    "\n",
    "load_dotenv()"
   ]
  },
  {
   "cell_type": "code",
   "execution_count": 2,
   "metadata": {},
   "outputs": [],
   "source": [
    "client = Groq(api_key = os.environ[\"GROQ_API_KEY\"])\n",
    "MODEL = \"llama-3.1-70b-versatile\"\n",
    "TEMPERATURE = 0"
   ]
  },
  {
   "cell_type": "code",
   "execution_count": 3,
   "metadata": {},
   "outputs": [],
   "source": [
    "dbfile = 'data/readmes.sqlite3'\n",
    "# Create a SQL connection to our SQLite database\n",
    "db = sqlite3.connect(dbfile)\n",
    "db.enable_load_extension(True)\n",
    "sqlite_vec.load(db)\n",
    "db.enable_load_extension(False)"
   ]
  },
  {
   "cell_type": "code",
   "execution_count": 4,
   "metadata": {},
   "outputs": [
    {
     "data": {
      "application/vnd.jupyter.widget-view+json": {
       "model_id": "3cd2df6ab13f4df5b624d48fcf00b4f7",
       "version_major": 2,
       "version_minor": 0
      },
      "text/plain": [
       "Fetching 5 files:   0%|          | 0/5 [00:00<?, ?it/s]"
      ]
     },
     "metadata": {},
     "output_type": "display_data"
    }
   ],
   "source": [
    "embedding_model = TextEmbedding()"
   ]
  },
  {
   "cell_type": "code",
   "execution_count": 5,
   "metadata": {},
   "outputs": [],
   "source": [
    "def call_model(prompt: str, messages=[]) -> ChatCompletionMessage:\n",
    "    messages.append(\n",
    "        {\n",
    "            \"role\": \"user\",\n",
    "            \"content\": prompt,\n",
    "        }\n",
    "    )\n",
    "    response = client.chat.completions.create(\n",
    "        model=MODEL,\n",
    "        messages=messages,\n",
    "        temperature=TEMPERATURE,\n",
    "    )\n",
    "    return response.choices[0].message.content"
   ]
  },
  {
   "cell_type": "code",
   "execution_count": 6,
   "metadata": {},
   "outputs": [],
   "source": [
    "query = \"¿A quíen mató José Arcadio Buendía?\"\n",
    "query_embeddings = list(embedding_model.embed([query]))\n",
    "query_embedding = query_embeddings[0]"
   ]
  },
  {
   "cell_type": "code",
   "execution_count": 7,
   "metadata": {},
   "outputs": [],
   "source": [
    "results = db.execute(\n",
    "    \"\"\"\n",
    "      SELECT\n",
    "        chunk_embeddings.id,\n",
    "        distance,\n",
    "        text\n",
    "      FROM chunk_embeddings\n",
    "      LEFT JOIN chunks ON chunks.id = chunk_embeddings.id\n",
    "      WHERE embedding MATCH ?\n",
    "        AND k = 3\n",
    "      ORDER BY distance\n",
    "    \"\"\",\n",
    "    [serialize_float32(query_embedding)],\n",
    ").fetchall()"
   ]
  },
  {
   "cell_type": "code",
   "execution_count": 8,
   "metadata": {},
   "outputs": [
    {
     "data": {
      "text/plain": [
       "[(2,\n",
       "  0.6349784135818481,\n",
       "  'En Macondo, José Arcadio Buendía alternaba entre sus intentos de construir la ciudad de sus sueños y la educación de sus hijos. El primogénito, José Arcadio, se desarrolló rápidamente, mientras que Aureliano mostraba interés por la alquimia. Úrsula quedó embarazada por tercera vez.\\nUna mujer llamada Pilar Ternera, que leía el futuro en las cartas, comenzó a visitar la casa. Predijo que José Arcadio sería feliz y tuvo un encuentro sexual con él en un granero. Este episodio despertó en el joven una intensa obsesión sexual y emocional. José Arcadio empezó a buscar a Pilar Ternera todas las noches, desarrollando una relación clandestina que marcaría profundamente su adolescencia y tendría consecuencias significativas en el futuro. La presencia de Pilar Ternera en la vida de los Buendía se convertiría en un elemento recurrente y crucial en la historia familiar.\\nMientras tanto, José Arcadio Buendía y Aureliano lograron separar oro en sus experimentos alquímicos. El desinterés de José Arcadio hijo en estos logros provocó un conflicto con su padre.\\nNació Amaranta, la tercera hija, mientras José Arcadio continuaba sus encuentros secretos con Pilar Ternera. La llegada de los gitanos con nuevas atracciones, como una estera voladora, permitió a la pareja disfrutar abiertamente de su relación.\\nLa situación cambió cuando Pilar Ternera informó a José Arcadio de su embarazo. Perturbado, el joven se unió a los gitanos y abandonó Macondo. Úrsula salió en su búsqueda, desapareciendo por meses.\\nDurante la ausencia de Úrsula, José Arcadio Buendía y Aureliano continuaron con sus experimentos, experimentando eventos extraños en la casa. Cinco meses después, Úrsula regresó con noticias del mundo exterior y un grupo de nuevos colonos.\\nSu retorno marcó un punto de inflexión para Macondo, conectando el pueblo aislado con la civilización exterior y sentando las bases para su futuro desarrollo y las complejas relaciones familiares que definirían la saga de los Buendía.\\nLa vida de los Buendía en Macondo, después de su fundación, y el desarrollo de las relaciones familiares y personales de José Arcadio Buendía y sus hijos.'),\n",
       " (1,\n",
       "  0.7070539593696594,\n",
       "  'La historia comienza con la bisabuela de Úrsula Iguarán, quien quedó traumatizada por el ataque del pirata Francis Drake a Riohacha en el siglo XVI. Su miedo la llevó a sentarse en un fogón encendido, quedando incapacitada de por vida. Este incidente tendría repercusiones en las generaciones futuras.\\nEl marido de la bisabuela, un comerciante aragonés, intentó curarla sin éxito. Finalmente, se mudaron a una ranchería de indios pacíficos en la sierra, buscando paz. Allí, el bisabuelo conoció a José Arcadio Buendía, un criollo cultivador de tabaco, con quien formó una sociedad próspera.\\nGeneraciones después, los descendientes de estas familias, Úrsula y José Arcadio Buendía, se casaron. Eran primos, y su unión generó temores en la familia debido a un precedente de un pariente que nació con cola de cerdo. A pesar de las advertencias, José Arcadio Buendía insistió en el matrimonio.\\nLa boda duró tres días, pero Úrsula, temerosa de tener hijos deformes, se negaba a consumar el matrimonio. Usaba un pantalón especial para evitar ser violada mientras dormía. Esta situación generó rumores sobre la impotencia de José Arcadio Buendía.\\nEl conflicto llegó a su punto crítico cuando Prudencio Aguilar insultó a José Arcadio Buendía sobre su supuesta impotencia. Enfurecido, José Arcadio Buendía lo mató con una lanza. Esa misma noche, forzó a Úrsula a quitarse el pantalón de castidad y consumaron el matrimonio.\\nAunque fue un duelo de honor, la culpa persiguió a la pareja. Úrsula comenzó a ver el fantasma de Prudencio Aguilar, lo que también afectó a su marido. Para escapar del espectro, decidieron abandonar el pueblo con un grupo de jóvenes amigos.\\nDurante su viaje de más de dos años, Úrsula dio a luz a José Arcadio. Finalmente, decidieron fundar una aldea llamada Macondo, inspirada en un sueño de José Arcadio Buendía sobre una ciudad de espejos.\\nOrígenes de la familia Buendía y fundación de Macondo.')]"
      ]
     },
     "execution_count": 8,
     "metadata": {},
     "output_type": "execute_result"
    }
   ],
   "source": [
    "results"
   ]
  },
  {
   "cell_type": "code",
   "execution_count": 8,
   "metadata": {},
   "outputs": [],
   "source": [
    "def retrieve_context(\n",
    "    query: str, k: int = 3, embedding_model: TextEmbedding = embedding_model\n",
    ") -> str:\n",
    "    query_embedding = list(embedding_model.embed([query]))[0]\n",
    "    results = db.execute(\n",
    "        \"\"\"\n",
    "    SELECT\n",
    "        chunk_embeddings.id,\n",
    "        distance,\n",
    "        text\n",
    "    FROM chunk_embeddings\n",
    "    LEFT JOIN chunks ON chunks.id = chunk_embeddings.id\n",
    "    WHERE embedding MATCH ? AND k = ?\n",
    "    ORDER BY distance\n",
    "        \"\"\",\n",
    "        [serialize_float32(query_embedding), k],\n",
    "    ).fetchall()\n",
    "    return \"\\n-----\\n\".join([item[2] for item in results])"
   ]
  },
  {
   "cell_type": "code",
   "execution_count": 9,
   "metadata": {},
   "outputs": [
    {
     "name": "stdout",
     "output_type": "stream",
     "text": [
      "En Macondo, José Arcadio Buendía alternaba entre sus intentos de construir la ciudad de sus sueños y la educación de sus hijos. El primogénito, José Arcadio, se desarrolló rápidamente, mientras que Aureliano mostraba interés por la alquimia. Úrsula quedó embarazada por tercera vez.\n",
      "Una mujer llamada Pilar Ternera, que leía el futuro en las cartas, comenzó a visitar la casa. Predijo que José Arcadio sería feliz y tuvo un encuentro sexual con él en un granero. Este episodio despertó en el joven una intensa obsesión sexual y emocional. José Arcadio empezó a buscar a Pilar Ternera todas las noches, desarrollando una relación clandestina que marcaría profundamente su adolescencia y tendría consecuencias significativas en el futuro. La presencia de Pilar Ternera en la vida de los Buendía se convertiría en un elemento recurrente y crucial en la historia familiar.\n",
      "Mientras tanto, José Arcadio Buendía y Aureliano lograron separar oro en sus experimentos alquímicos. El desinterés de José Arcadio hijo en estos logros provocó un conflicto con su padre.\n",
      "Nació Amaranta, la tercera hija, mientras José Arcadio continuaba sus encuentros secretos con Pilar Ternera. La llegada de los gitanos con nuevas atracciones, como una estera voladora, permitió a la pareja disfrutar abiertamente de su relación.\n",
      "La situación cambió cuando Pilar Ternera informó a José Arcadio de su embarazo. Perturbado, el joven se unió a los gitanos y abandonó Macondo. Úrsula salió en su búsqueda, desapareciendo por meses.\n",
      "Durante la ausencia de Úrsula, José Arcadio Buendía y Aureliano continuaron con sus experimentos, experimentando eventos extraños en la casa. Cinco meses después, Úrsula regresó con noticias del mundo exterior y un grupo de nuevos colonos.\n",
      "Su retorno marcó un punto de inflexión para Macondo, conectando el pueblo aislado con la civilización exterior y sentando las bases para su futuro desarrollo y las complejas relaciones familiares que definirían la saga de los Buendía.\n",
      "La vida de los Buendía en Macondo, después de su fundación, y el desarrollo de las relaciones familiares y personales de José Arcadio Buendía y sus hijos.\n",
      "-----\n",
      "La historia comienza con la bisabuela de Úrsula Iguarán, quien quedó traumatizada por el ataque del pirata Francis Drake a Riohacha en el siglo XVI. Su miedo la llevó a sentarse en un fogón encendido, quedando incapacitada de por vida. Este incidente tendría repercusiones en las generaciones futuras.\n",
      "El marido de la bisabuela, un comerciante aragonés, intentó curarla sin éxito. Finalmente, se mudaron a una ranchería de indios pacíficos en la sierra, buscando paz. Allí, el bisabuelo conoció a José Arcadio Buendía, un criollo cultivador de tabaco, con quien formó una sociedad próspera.\n",
      "Generaciones después, los descendientes de estas familias, Úrsula y José Arcadio Buendía, se casaron. Eran primos, y su unión generó temores en la familia debido a un precedente de un pariente que nació con cola de cerdo. A pesar de las advertencias, José Arcadio Buendía insistió en el matrimonio.\n",
      "La boda duró tres días, pero Úrsula, temerosa de tener hijos deformes, se negaba a consumar el matrimonio. Usaba un pantalón especial para evitar ser violada mientras dormía. Esta situación generó rumores sobre la impotencia de José Arcadio Buendía.\n",
      "El conflicto llegó a su punto crítico cuando Prudencio Aguilar insultó a José Arcadio Buendía sobre su supuesta impotencia. Enfurecido, José Arcadio Buendía lo mató con una lanza. Esa misma noche, forzó a Úrsula a quitarse el pantalón de castidad y consumaron el matrimonio.\n",
      "Aunque fue un duelo de honor, la culpa persiguió a la pareja. Úrsula comenzó a ver el fantasma de Prudencio Aguilar, lo que también afectó a su marido. Para escapar del espectro, decidieron abandonar el pueblo con un grupo de jóvenes amigos.\n",
      "Durante su viaje de más de dos años, Úrsula dio a luz a José Arcadio. Finalmente, decidieron fundar una aldea llamada Macondo, inspirada en un sueño de José Arcadio Buendía sobre una ciudad de espejos.\n",
      "Orígenes de la familia Buendía y fundación de Macondo.\n"
     ]
    }
   ],
   "source": [
    "print(retrieve_context(query))"
   ]
  },
  {
   "cell_type": "code",
   "execution_count": 10,
   "metadata": {},
   "outputs": [],
   "source": [
    "SYSTEM_PROMPT = \"\"\"\n",
    "You're an expert AI/ML engineer with a background in software development. You're\n",
    "answering questions about technical topics and projects.\n",
    "If you don't know the answer - just reply with an excuse that you\n",
    "don't know. Keep your answers brief and to the point. Be kind and respectful.\n",
    "\n",
    "Use the provided context for your answers. The most relevant information is\n",
    "at the top. Each piece of information is separated by ---.\n",
    "\"\"\""
   ]
  },
  {
   "cell_type": "code",
   "execution_count": 11,
   "metadata": {},
   "outputs": [],
   "source": [
    "def ask_question(query: str) -> str:\n",
    "    messages = [\n",
    "        {\n",
    "            \"role\": \"system\",\n",
    "            \"content\": SYSTEM_PROMPT,\n",
    "        },\n",
    "    ]\n",
    "    context = retrieve_context(query)\n",
    "    prompt = dedent(\n",
    "        f\"\"\"\n",
    "Use the following information:\n",
    "\n",
    "```\n",
    "{context}\n",
    "```\n",
    "\n",
    "to answer the question:\n",
    "{query}\n",
    "    \"\"\"\n",
    "    )\n",
    "    return call_model(prompt, messages), context"
   ]
  },
  {
   "cell_type": "code",
   "execution_count": 12,
   "metadata": {},
   "outputs": [
    {
     "name": "stdout",
     "output_type": "stream",
     "text": [
      "Después de consumar su matrimonio, Úrsula comenzó a ver el fantasma de Prudencio Aguilar.\n"
     ]
    }
   ],
   "source": [
    "query = \"¿A quíen veria Úrsula después de consumar su matrimonio?\"\n",
    "response, context = ask_question(query)\n",
    "print(response)"
   ]
  },
  {
   "cell_type": "code",
   "execution_count": 18,
   "metadata": {},
   "outputs": [
    {
     "name": "stdout",
     "output_type": "stream",
     "text": [
      "José Arcadio Buendía se batió en duelo con Prudencio Aguilar.\n"
     ]
    }
   ],
   "source": [
    "query = \"¿Con quíen se batió en duelo José Arcadio Buendía?\"\n",
    "response, context = ask_question(query)\n",
    "print(response)"
   ]
  },
  {
   "cell_type": "code",
   "execution_count": 17,
   "metadata": {},
   "outputs": [
    {
     "name": "stdout",
     "output_type": "stream",
     "text": [
      "Según el texto, el papá de Aureliano Buendía, José Arcadio Buendía, mató a Prudencio Aguilar con una lanza después de que este lo insultó sobre su supuesta impotencia.\n"
     ]
    }
   ],
   "source": [
    "query = \"¿A quíen mató el papá Aureliano Buendía?\"\n",
    "response, context = ask_question(query)\n",
    "print(response)"
   ]
  },
  {
   "cell_type": "code",
   "execution_count": 19,
   "metadata": {},
   "outputs": [
    {
     "name": "stdout",
     "output_type": "stream",
     "text": [
      "El papá de Amaranta, José Arcadio Buendía, mató a Prudencio Aguilar porque este último lo insultó sobre su supuesta impotencia.\n"
     ]
    }
   ],
   "source": [
    "query = \"¿Por qué mató el papá de Amaranta a Prudencio Aguilar?\"\n",
    "response, context = ask_question(query)\n",
    "print(response)"
   ]
  },
  {
   "cell_type": "code",
   "execution_count": 15,
   "metadata": {},
   "outputs": [
    {
     "name": "stdout",
     "output_type": "stream",
     "text": [
      "Amaranta era la hermana menor de Aureliano Buendía.\n"
     ]
    }
   ],
   "source": [
    "query = \"¿A quíen era la hermana menor de Aureliano Buendía?\"\n",
    "response, context = ask_question(query)\n",
    "print(response)"
   ]
  },
  {
   "cell_type": "code",
   "execution_count": 16,
   "metadata": {},
   "outputs": [
    {
     "name": "stdout",
     "output_type": "stream",
     "text": [
      "José Arcadio Buendía se batió en duelo con Prudencio Aguilar.\n"
     ]
    }
   ],
   "source": [
    "query = \"¿Con quíen se batió en duelo papá de Aureliano Buendía?\"\n",
    "response, context = ask_question(query)\n",
    "print(response)"
   ]
  }
 ],
 "metadata": {
  "kernelspec": {
   "display_name": "langchain_exp",
   "language": "python",
   "name": "python3"
  },
  "language_info": {
   "codemirror_mode": {
    "name": "ipython",
    "version": 3
   },
   "file_extension": ".py",
   "mimetype": "text/x-python",
   "name": "python",
   "nbconvert_exporter": "python",
   "pygments_lexer": "ipython3",
   "version": "3.9.20"
  }
 },
 "nbformat": 4,
 "nbformat_minor": 2
}
