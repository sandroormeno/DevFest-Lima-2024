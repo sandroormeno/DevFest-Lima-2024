{
 "cells": [
  {
   "cell_type": "code",
   "execution_count": 1,
   "metadata": {},
   "outputs": [
    {
     "data": {
      "text/plain": [
       "{'name': 'instance-0000000001',\n",
       " 'cluster_name': '47ca47e25f024c7784b2d65dfae50378',\n",
       " 'cluster_uuid': 'lzKsF-dPTmyqLALkDYr5dQ',\n",
       " 'version': {'number': '8.15.5',\n",
       "  'build_flavor': 'default',\n",
       "  'build_type': 'docker',\n",
       "  'build_hash': 'b10896bcfe167cce44a84ba2771d101fb596d40d',\n",
       "  'build_date': '2024-11-21T22:06:13.985834967Z',\n",
       "  'build_snapshot': False,\n",
       "  'lucene_version': '9.11.1',\n",
       "  'minimum_wire_compatibility_version': '7.17.0',\n",
       "  'minimum_index_compatibility_version': '7.0.0'},\n",
       " 'tagline': 'You Know, for Search'}"
      ]
     },
     "execution_count": 1,
     "metadata": {},
     "output_type": "execute_result"
    }
   ],
   "source": [
    "from elasticsearch import Elasticsearch\n",
    "\n",
    "\n",
    "client = Elasticsearch(\n",
    "    \"https://devfest-lima-2024.es.us-central1.gcp.cloud.es.io\",  # Elasticsearch endpoint\n",
    "    api_key=\"UkkyWGRwTUJud2NwNG9iTlMxUHo6TjhtLUR3R2VUcU90M0l1R1ZlalR3dw==\",\n",
    ")\n",
    "# Successful response!\n",
    "client.info().body"
   ]
  },
  {
   "cell_type": "code",
   "execution_count": 2,
   "metadata": {},
   "outputs": [
    {
     "name": "stdout",
     "output_type": "stream",
     "text": [
      "160\n"
     ]
    }
   ],
   "source": [
    "import pickle\n",
    "\n",
    "# Replace 'path_to_your_file.pkl' with the actual path to your PKL file\n",
    "file_path = 'data/chapter_1_256.pkl'\n",
    "\n",
    "# Open the file in binary mode and load the data\n",
    "with open(file_path, 'rb') as file:\n",
    "    data = pickle.load(file)\n",
    "\n",
    "# Now 'data' contains the deserialized Python object\n",
    "print(len(data))"
   ]
  },
  {
   "cell_type": "code",
   "execution_count": 3,
   "metadata": {},
   "outputs": [],
   "source": [
    "from langchain_core.documents import Document\n",
    "all_doc =[]\n",
    "for i in data:\n",
    "    tem = Document(\n",
    "                page_content=i,\n",
    "                metadata={\"source\": \"chapter_1_256.pkl\"},\n",
    "            )\n",
    "    all_doc.append(tem)"
   ]
  },
  {
   "cell_type": "code",
   "execution_count": 4,
   "metadata": {},
   "outputs": [
    {
     "data": {
      "text/plain": [
       "'Todos los años, por el mes de marzo, una familia de gitanos desarrapados plantaba su carpa cerca de la aldea, y con un grande alboroto de pitos y timbales daban a conocer los nuevos inventos. Primero llevaron el imán.'"
      ]
     },
     "execution_count": 4,
     "metadata": {},
     "output_type": "execute_result"
    }
   ],
   "source": [
    "all_doc[3].page_content"
   ]
  },
  {
   "cell_type": "code",
   "execution_count": 5,
   "metadata": {},
   "outputs": [
    {
     "name": "stderr",
     "output_type": "stream",
     "text": [
      "C:\\Users\\Sandro_Alex\\AppData\\Local\\Temp\\ipykernel_14308\\4162380786.py:3: LangChainDeprecationWarning: The class `HuggingFaceEmbeddings` was deprecated in LangChain 0.2.2 and will be removed in 1.0. An updated version of the class exists in the :class:`~langchain-huggingface package and should be used instead. To use it run `pip install -U :class:`~langchain-huggingface` and import as `from :class:`~langchain_huggingface import HuggingFaceEmbeddings``.\n",
      "  embeddings = HuggingFaceEmbeddings()\n",
      "C:\\Users\\Sandro_Alex\\AppData\\Local\\Temp\\ipykernel_14308\\4162380786.py:3: LangChainDeprecationWarning: Default values for HuggingFaceEmbeddings.model_name were deprecated in LangChain 0.2.16 and will be removed in 0.4.0. Explicitly pass a model_name to the HuggingFaceEmbeddings constructor instead.\n",
      "  embeddings = HuggingFaceEmbeddings()\n",
      "c:\\Users\\Sandro_Alex\\anaconda3\\envs\\langchain_exp\\lib\\site-packages\\sentence_transformers\\cross_encoder\\CrossEncoder.py:13: TqdmExperimentalWarning: Using `tqdm.autonotebook.tqdm` in notebook mode. Use `tqdm.tqdm` instead to force console mode (e.g. in jupyter console)\n",
      "  from tqdm.autonotebook import tqdm, trange\n"
     ]
    }
   ],
   "source": [
    "from langchain_community.embeddings import HuggingFaceEmbeddings\n",
    "\n",
    "embeddings = HuggingFaceEmbeddings()"
   ]
  },
  {
   "cell_type": "code",
   "execution_count": 6,
   "metadata": {},
   "outputs": [],
   "source": [
    "from langchain_elasticsearch import ElasticsearchStore\n",
    "elastic_vector=ElasticsearchStore(\n",
    "    embedding=embeddings,\n",
    "    index_name=\"100_years_256_vectors\",\n",
    "    es_cloud_id=\"DevFest_Lima-2024:dXMtY2VudHJhbDEuZ2NwLmNsb3VkLmVzLmlvOjQ0MyQ0N2NhNDdlMjVmMDI0Yzc3ODRiMmQ2NWRmYWU1MDM3OCQxY2JlN2NjYWIxNjI0N2U2OWIzZWRmMDJkNWFhNmU5ZA==\",\n",
    "    es_api_key=\"UkkyWGRwTUJud2NwNG9iTlMxUHo6TjhtLUR3R2VUcU90M0l1R1ZlalR3dw==\"\n",
    ")"
   ]
  },
  {
   "cell_type": "code",
   "execution_count": 7,
   "metadata": {},
   "outputs": [
    {
     "data": {
      "text/plain": [
       "['2718f7bb-7d0e-4959-9813-b2f3a124fe02',\n",
       " '549ba4a8-1877-4304-ad2f-77989c689be7',\n",
       " 'deddeff2-56fc-4fdd-8cfb-3effea6ecfff',\n",
       " '36344b7d-954e-468b-958c-a6aa3a808129',\n",
       " '7bbadcb4-14c1-44ca-8839-3718329f6895',\n",
       " '40a38b3f-57fa-4be1-8b71-0013788817d1',\n",
       " '6d559092-9be6-4262-89b0-d7f30cacb0dd',\n",
       " '69593806-3d72-4fd8-8cc7-71d4538dbd82',\n",
       " 'c1c53504-1a3c-4ee2-972f-0d43f60f0360',\n",
       " 'eb78a2e1-8989-4fdd-90be-1cc094f5e47b',\n",
       " 'dfcd3c3b-8f6d-4330-8605-23c125235c00',\n",
       " 'd37c62f3-da9e-4e29-a351-b297293e6259',\n",
       " 'b9375504-cba9-41d9-b475-1fecb07cbdd4',\n",
       " '8a44b3b5-1a8c-40aa-9944-589b0cefb81f',\n",
       " 'de907898-d9a2-4747-bf6c-9e28bddae498',\n",
       " 'ec030c06-5c9d-4c12-a02b-9f95e9f6c92a',\n",
       " '32cf0533-d0b8-4eb0-a9fb-40311b0469ef',\n",
       " '34910895-b8dd-45da-8a9a-30e645bc2882',\n",
       " '361b6f4f-6168-46c5-8904-5da85fe650ea',\n",
       " '7d924e08-c96c-47fa-99ff-d8527a370b74',\n",
       " '5af875e3-9343-4193-92f3-16f3c5e696cd',\n",
       " '4544ad80-93f5-418b-a185-165c2fe1ea23',\n",
       " 'c34fef25-0c46-4680-b96e-4751b3fbd6ab',\n",
       " '5657d229-a777-47dc-ac8c-a98a0d5d4922',\n",
       " 'b0bbeac5-2017-4530-97fa-6427c1d76c2f',\n",
       " '2c6ddafb-3e75-40e6-b482-9a0731f50661',\n",
       " 'f0e3f191-d901-4a43-9dce-6c6807eff0f6',\n",
       " 'd57a2990-37f3-4e98-85b1-01d7d2b59027',\n",
       " '36e21265-a8d9-422b-b335-2e805299eba9',\n",
       " 'b17cad1a-a34d-4a19-9fb9-c2923cc58b1b',\n",
       " 'ccf09f37-df06-4501-bd6d-84fe7d3dbf80',\n",
       " '8e2aa7a4-0acb-4d50-b6ed-a934ac774138',\n",
       " '991abf08-2231-41e0-8f1f-f3792c00fd1c',\n",
       " '587919af-21ef-4d6a-a6c8-c526f3820f72',\n",
       " '2e786faa-6112-41a9-b47b-5e4404b80508',\n",
       " 'b443f235-3c8d-4c3e-8b8a-7c1acc83895b',\n",
       " '67cc0f62-da6d-4334-8dbc-77b723558b51',\n",
       " '22f5b520-f83d-4340-99c9-eca904f19dd2',\n",
       " 'a3f85d81-4c8f-4bbe-a159-2e09efa03b6e',\n",
       " '96f04aa7-4324-485a-9430-23a06ecb194d',\n",
       " '8a6344f5-7549-4c4c-a247-ee1580007787',\n",
       " '330462d5-6eaf-4d02-a360-31cbcecfb91f',\n",
       " '2d4e62ff-ddba-42a5-995d-d25d2553d7a1',\n",
       " '35e52d29-1f7d-40d5-b31b-4151f65eed9a',\n",
       " '9a08e914-73fb-4ff0-ad3a-6763910c5a63',\n",
       " '388473ed-71a3-4e95-8c4b-4742154335e1',\n",
       " '0ad92bf7-6cd1-491d-bfb2-adc285dfb2f4',\n",
       " 'e7ada937-c24b-4f07-a5f2-c35dfb1cec63',\n",
       " '9c61780f-4fb6-46fe-a806-35f1d09780ad',\n",
       " '44173f5f-c267-416e-9bd6-0a7895824c5d',\n",
       " '00e7ec6b-d06f-4869-803d-1b35eebf636c',\n",
       " '0bb07967-ebc0-459a-a50e-b1c7fded72d4',\n",
       " 'aed45deb-fddb-49bf-b1b5-82a65c19197c',\n",
       " '7e7c0e31-a2aa-4c55-b742-7fc7eb71373e',\n",
       " '73d945eb-458a-4f09-9772-2cfdaeedce0b',\n",
       " '5f5dd82a-e8d6-4d36-8191-16174a94b368',\n",
       " '2d89e42a-1080-4d12-9709-61e6e345cc0d',\n",
       " 'edba5295-94cd-4f32-b806-096e10ece1ff',\n",
       " '3020377c-c1d2-4c4b-8bda-2db006ad8064',\n",
       " '429b0da2-aaff-43b8-adab-133b62b0f617',\n",
       " '9158cf31-7cc2-46da-b8e2-91355af6c8d6',\n",
       " '06186b88-97b8-4c3e-8d9c-a096e11cbc05',\n",
       " '4ffac9c2-b6fd-477b-b71e-b543c1836e46',\n",
       " '51dd8a2b-947c-4771-bb62-13f1226d8aa4',\n",
       " '705f45a2-7457-413e-8af9-99090941dfe8',\n",
       " '8149cd3a-8358-4a9f-9b74-2e5dcc32e97b',\n",
       " 'bae99a49-9729-4ddb-ba85-2ba9e965884a',\n",
       " 'd62571c4-56f4-4ae2-a555-be928e67e135',\n",
       " '3455f3a8-9867-4214-877a-c2a5c8ce07e1',\n",
       " '78aad617-7677-40e7-9643-89c2291473e8',\n",
       " '3e918391-0b8c-4f64-ac1b-847cc5136af3',\n",
       " 'd65d4b4f-d054-4316-81ce-ac45cf0a16a3',\n",
       " '2b76da44-4720-4efb-b00f-d7020628819c',\n",
       " '741e9ef4-39bc-44f4-b5df-4b106d0e1f50',\n",
       " 'f9a930c7-9f21-42c4-b11c-4a6a74155055',\n",
       " '7c03a5d5-9cfd-403d-b66b-1e980c283843',\n",
       " 'a448903c-4d53-464d-a0b5-446570cfb293',\n",
       " '5dfc4f32-d54a-41f0-a799-526ceb73108a',\n",
       " 'c9e90cb8-1009-415b-a869-def4618b0a3c',\n",
       " '513c642e-c27e-4e19-961a-c4c260aad951',\n",
       " 'b2905f4d-b70f-4965-a167-938fe5ea1c60',\n",
       " '94554907-b0c3-44fc-8572-fe5c1dbb092f',\n",
       " '4ac487c5-343f-4be4-b56e-2351bc7c07b6',\n",
       " '9f6ddf00-65cc-4ebe-a752-6e947ecbc779',\n",
       " '2309fbd7-2a6d-41c9-b8c3-9275e6e5fd94',\n",
       " '727ea4d9-8d0d-4ac0-81d2-f11b8fb6553e',\n",
       " 'f4c2d3c0-b36f-43db-8f82-7f661b29036a',\n",
       " 'a1c88e3b-a1c4-4d92-8590-e07ee7feda95',\n",
       " '2b80350f-8cbc-4a32-a2a6-3f22be94e62a',\n",
       " '8111f3d9-aebe-4ee4-9ffb-34a29fb37377',\n",
       " '70fe0a7d-7df2-44d8-b2e2-4d39c61b785a',\n",
       " '680bd3a0-4826-4dd8-9134-12f5b4dda8e6',\n",
       " '55b51bf1-0074-4ad9-9aa5-87065d751eaf',\n",
       " 'f8185f73-0205-4cce-8dfc-f85f592c5216',\n",
       " 'fc5a748b-a9d5-4e49-ae9e-7491dfb564e4',\n",
       " '0a7165f2-96c9-428e-bb3a-c90f023c5969',\n",
       " '338d5827-2cb9-496f-b07d-2bbc5abea178',\n",
       " '57743203-be08-4594-a6e4-c2c406a443eb',\n",
       " '1f86997b-082f-451d-9fa1-efc66c56e432',\n",
       " '5272f2bc-247c-4cb9-8a45-b7c39c71f30e',\n",
       " '75d919d6-9ee2-4425-ad06-efbf80bf52a6',\n",
       " '468cfc1e-0af2-4e53-96a0-392ec2653ca4',\n",
       " '0622b2d9-96e0-4198-ab01-08ff63e7cfa1',\n",
       " 'e1d0d0b9-f3ea-4de6-91b5-d7293d8ec623',\n",
       " 'e5b02259-a4b3-41f5-b8f1-793098a21988',\n",
       " '400e429f-2216-431f-9057-323de772a70f',\n",
       " '215b2632-af5b-40d8-bb34-8fa937c9666a',\n",
       " 'c00d7288-88ee-441e-9762-83c081a8283e',\n",
       " '563ba328-6877-402b-83cc-0c59a983202f',\n",
       " 'c7644a2b-ef47-4f6c-b906-101a25f9c285',\n",
       " '3b1b5c78-45ec-43af-b4d0-60021bc016ad',\n",
       " '9e4fa865-55a0-43c6-b5fd-13fa2188b17a',\n",
       " '7454e192-c9aa-4fdf-b707-048d9f1265aa',\n",
       " 'b750615c-be42-4a8f-afd7-0276909ffa3c',\n",
       " '2f040789-16c7-43a5-8e81-be37595bbd7d',\n",
       " '54aebf2a-4e81-484f-b1e4-0361bd94ec70',\n",
       " 'fd2d3003-122f-48e7-bc22-7d46bbad8930',\n",
       " 'c11a3641-2a55-4411-b4ad-a821cca3cd0a',\n",
       " 'c100ee64-baa8-4ab6-8d63-b48dbb161ec7',\n",
       " 'dd4af991-f654-410b-ba9b-4a1b9fb1926b',\n",
       " 'd60ef40a-3570-4889-9eaa-84fa4cc3d09b',\n",
       " 'd100a884-02e9-4be6-be67-3ab2b7247245',\n",
       " '70b08b46-6531-4cf9-8e46-f267fb47a789',\n",
       " '5483547d-d0e1-41c7-bf1e-cda9b2e83075',\n",
       " '34edd607-d692-4a96-8842-180d7e672a55',\n",
       " '033348f9-8c26-45a9-8db2-0e40edcd793d',\n",
       " '424c4da7-18ff-4283-a490-879ee3d7c4d1',\n",
       " '361b39bc-7d21-4f3f-8e6d-0a9397ff7240',\n",
       " '9df9725d-dda2-4111-9cb2-0e61c11041fb',\n",
       " '8d835d72-49b0-4c9a-8398-ea6d348a53f6',\n",
       " 'fc7517bd-a51b-461f-9e40-41086a893b6d',\n",
       " '0eb4bb11-9924-4ed0-acb5-9c136272a195',\n",
       " 'a2d99902-b7a3-49a6-92cc-5efbc905bb4e',\n",
       " 'd873e405-8b26-4958-b632-df335af685a2',\n",
       " 'a2055501-7f5f-49cb-ad2d-b29186bf3c59',\n",
       " '0fc19275-d38d-40c0-9fb5-953dc26f4bd0',\n",
       " '6ac1fd58-e6f7-4135-9198-af6d202ed910',\n",
       " 'fb5b02dd-8ffe-4264-94d1-05cafc0220fe',\n",
       " '4ca937cf-ed51-4791-8d1c-bc0cc5abe95d',\n",
       " '2c3a9a7d-b589-40dc-87b1-308c66feefe4',\n",
       " 'd3a889c7-8891-475a-b9b4-327389e779ec',\n",
       " '5a50251c-74a9-4a75-871e-c44a7910f641',\n",
       " 'ae03a16e-c4de-45b0-8e54-94497a8df142',\n",
       " 'cb1b51e2-6084-4b99-95b7-0347d1ebb494',\n",
       " 'c56cfb73-ac9e-4173-afbf-aff606b5fc02',\n",
       " '6cad823e-b24a-4246-be8d-3c164d3b785b',\n",
       " '44479db0-80e0-4568-85a8-3a574708c6b7',\n",
       " '8df8df3f-89ea-406a-8046-9ad41d2e7a8c',\n",
       " '6fef7a1a-90dc-4d5f-830b-63ea06393e0d',\n",
       " '5e9cb583-f9af-4fe3-aa45-db62bcf168cb',\n",
       " 'db9f0450-b086-43bf-806b-74aa1276c1e1',\n",
       " '336bd51d-e10d-426e-a6b9-92f54f794d0a',\n",
       " 'e696dc94-6743-4fd2-8280-b4054ea3668d',\n",
       " '78ceda28-8b35-4df6-a010-f56d7c0b0dd8',\n",
       " '8b6b2dc3-8445-4268-bc59-1c521d276d1c',\n",
       " 'd3b6aa15-cf55-49a7-90d7-57d63a5a6c05',\n",
       " '528fa293-08ef-4724-a2e6-33acac095c0e',\n",
       " '44d9a092-2599-418e-9015-ac01113a3458',\n",
       " 'a300f0d1-7eb3-4ddc-986c-115479e35aae',\n",
       " '20ae20ca-810a-4801-8776-516cdb4deb78']"
      ]
     },
     "execution_count": 7,
     "metadata": {},
     "output_type": "execute_result"
    }
   ],
   "source": [
    "from uuid import uuid4\n",
    "\n",
    "uuids = [str(uuid4()) for _ in range(len(all_doc))]\n",
    "\n",
    "elastic_vector .add_documents(documents=all_doc, ids=uuids)"
   ]
  },
  {
   "cell_type": "code",
   "execution_count": 8,
   "metadata": {},
   "outputs": [
    {
     "name": "stdout",
     "output_type": "stream",
     "text": [
      "- 0.665305 -> La primera vez que llegó la tribu de Melquíades vendiendo bolas de vidrio para el dolor de cabeza, todo el mundo se sorprendió de que hubieran podido encontrar aquella aldea perdida en el sopor de la ciénaga, y los gitanos confesaron que se habían orientado por el canto de los pájaros.\n",
      "- 0.662744 -> Por último, cansado de esperar, se lamentó ante Melquíades del fracaso de su iniciativa, y el gitano dio entonces una prueba convincente de honradez: le devolvió los doblones a cambio de la lupa, y le dejó además unos mapas portugueses y varios instrumentos de navegación.\n",
      "- 0.659261 -> Úrsula cedió, como ocurría siempre, ante la inquebrantable obstinación de su marido. Entonces José Arcadio Buendía echó treinta doblones en una cazuela, y los fundió con raspadura de cobre, oropimente, azufre y plomo.\n"
     ]
    }
   ],
   "source": [
    "results = elastic_vector.similarity_search_with_score(\n",
    "    query=\"doblones\",\n",
    "    k=3,\n",
    "    #filter=[{\"term\": {\"metadata.source.keyword\": \"camp_1.pkl\"}}],\n",
    ")\n",
    "for doc, score in results:\n",
    "    print(f\"- {score:3f} -> {doc.page_content}\")"
   ]
  }
 ],
 "metadata": {
  "kernelspec": {
   "display_name": "langchain_exp",
   "language": "python",
   "name": "python3"
  },
  "language_info": {
   "codemirror_mode": {
    "name": "ipython",
    "version": 3
   },
   "file_extension": ".py",
   "mimetype": "text/x-python",
   "name": "python",
   "nbconvert_exporter": "python",
   "pygments_lexer": "ipython3",
   "version": "3.9.20"
  }
 },
 "nbformat": 4,
 "nbformat_minor": 2
}
